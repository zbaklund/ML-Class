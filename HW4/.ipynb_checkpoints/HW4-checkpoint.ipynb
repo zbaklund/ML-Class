{
 "cells": [
  {
   "cell_type": "code",
   "execution_count": 1,
   "id": "55974554",
   "metadata": {},
   "outputs": [],
   "source": [
    "import csv\n",
    "import numpy as np\n",
    "import math"
   ]
  },
  {
   "cell_type": "code",
   "execution_count": 2,
   "id": "4a0596bf",
   "metadata": {},
   "outputs": [],
   "source": [
    "header = []\n",
    "labels = []\n",
    "features = []\n",
    "with open(\"titanic_data.csv\") as f:\n",
    "    reader = csv.reader(f)\n",
    "    header = next(reader)\n",
    "    for row in reader:\n",
    "#         print(row)\n",
    "        labels.append(int(row[0]))\n",
    "        features.append([float(x) for x in row[1:]])"
   ]
  },
  {
   "cell_type": "code",
   "execution_count": 3,
   "id": "f61e1c3b",
   "metadata": {},
   "outputs": [],
   "source": [
    "header = np.array(header)\n",
    "labels = np.array(labels)\n",
    "features = np.array(features)"
   ]
  },
  {
   "cell_type": "code",
   "execution_count": 4,
   "id": "a23a969b",
   "metadata": {},
   "outputs": [
    {
     "name": "stdout",
     "output_type": "stream",
     "text": [
      "header:  (7,) labels:  (887,) features:  (887, 6)\n"
     ]
    }
   ],
   "source": [
    "print(\"header: \", header.shape, \"labels: \", labels.shape, \"features: \", features.shape)"
   ]
  },
  {
   "cell_type": "code",
   "execution_count": 5,
   "id": "ce63c255",
   "metadata": {},
   "outputs": [
    {
     "name": "stdout",
     "output_type": "stream",
     "text": [
      "['Survived' 'Pclass' 'Sex' 'Age' 'Siblings/Spouses Aboard'\n",
      " 'Parents/Children Aboard' 'Fare']\n"
     ]
    }
   ],
   "source": [
    "print(header)"
   ]
  },
  {
   "cell_type": "code",
   "execution_count": 6,
   "id": "b25a22f3",
   "metadata": {},
   "outputs": [],
   "source": [
    "def percentages(feature_dict):\n",
    "    for key in feature_dict:\n",
    "        feature_dict[key] = feature_dict[key][0] / (feature_dict[key][0] + feature_dict[key][1])\n",
    "    return feature_dict"
   ]
  },
  {
   "cell_type": "code",
   "execution_count": 7,
   "id": "6dbde920",
   "metadata": {},
   "outputs": [
    {
     "name": "stdout",
     "output_type": "stream",
     "text": [
      "Mean:  2.305524239007892  Std:  0.8361902460886118  Var:  0.6992141276537333\n"
     ]
    },
    {
     "data": {
      "text/plain": [
       "{'1': 0.6296296296296297, '2': 0.47282608695652173, '3': 0.24435318275154005}"
      ]
     },
     "execution_count": 7,
     "metadata": {},
     "output_type": "execute_result"
    }
   ],
   "source": [
    "# 'Pclass'\n",
    "pclass_dict = {\"1\": [0,0], \"2\": [0,0], \"3\": [0,0]}\n",
    "pclass_col = features[:,np.where(header == 'Pclass')[0][0] - 1]\n",
    "print(\"Mean: \", np.mean(pclass_col), \" Std: \", np.std(pclass_col), \" Var: \", np.var(pclass_col))\n",
    "for row_idx in range(len(features)):\n",
    "    pclass = features[row_idx][np.where(header == \"Pclass\")[0][0] - 1]\n",
    "    if int(labels[row_idx]) == 1:\n",
    "        pclass_dict[str(int(pclass))][0] += 1\n",
    "    else:\n",
    "        pclass_dict[str(int(pclass))][1] += 1\n",
    "\n",
    "percentages(pclass_dict)"
   ]
  },
  {
   "cell_type": "code",
   "execution_count": 8,
   "id": "803dda9e",
   "metadata": {},
   "outputs": [
    {
     "name": "stdout",
     "output_type": "stream",
     "text": [
      "Mean:  0.35400225479143177  Std:  0.47820984765478636  Var:  0.22868465839401397\n"
     ]
    },
    {
     "data": {
      "text/plain": [
       "{'0': 0.19022687609075042, '1': 0.7420382165605095}"
      ]
     },
     "execution_count": 8,
     "metadata": {},
     "output_type": "execute_result"
    }
   ],
   "source": [
    "# 'Sex'\n",
    "sex_dict = {\"0\": [0,0], \"1\": [0,0]}\n",
    "sex_col = features[:,np.where(header == 'Sex')[0][0] - 1]\n",
    "print(\"Mean: \", np.mean(sex_col), \" Std: \", np.std(sex_col), \" Var: \", np.var(sex_col))\n",
    "for row_idx in range(len(features)):\n",
    "    sex = features[row_idx][np.where(header == \"Sex\")[0][0] - 1]\n",
    "    if int(labels[row_idx]) == 1:\n",
    "        sex_dict[str(int(sex))][0] += 1\n",
    "    else:\n",
    "        sex_dict[str(int(sex))][1] += 1\n",
    "\n",
    "percentages(sex_dict)"
   ]
  },
  {
   "cell_type": "code",
   "execution_count": 9,
   "id": "6445a963",
   "metadata": {},
   "outputs": [
    {
     "name": "stdout",
     "output_type": "stream",
     "text": [
      "Mean:  29.471443066516347  Std:  14.113945671023181  Var:  199.203462404594\n"
     ]
    },
    {
     "data": {
      "text/plain": [
       "{'0-18': 0.46987951807228917,\n",
       " '18-25': 0.31627906976744186,\n",
       " '25-35': 0.4057377049180328,\n",
       " '35-55': 0.391705069124424,\n",
       " '55+': 0.26666666666666666}"
      ]
     },
     "execution_count": 9,
     "metadata": {},
     "output_type": "execute_result"
    }
   ],
   "source": [
    "# 'Age'\n",
    "age_dict = {\"0-18\": [0,0], \"18-25\": [0,0], \"25-35\": [0,0], \"35-55\": [0,0], \"55+\": [0,0]}\n",
    "age_col = features[:,np.where(header == 'Age')[0][0] - 1]\n",
    "print(\"Mean: \", np.mean(age_col), \" Std: \", np.std(age_col), \" Var: \", np.var(age_col))\n",
    "for row_idx in range(len(features)):\n",
    "    age = features[row_idx][np.where(header == \"Age\")[0][0] - 1]\n",
    "    age_key = None\n",
    "    if int(age) <= 18: \n",
    "        age_key = \"0-18\"\n",
    "    elif int(age) > 18 and int(age) <= 25:\n",
    "        age_key = \"18-25\"\n",
    "    elif int(age) > 25 and int(age) <= 35:\n",
    "        age_key = \"25-35\"\n",
    "    elif int(age) > 35 and int(age) <= 55:\n",
    "        age_key = \"35-55\"\n",
    "    elif int(age) > 55:\n",
    "        age_key = \"55+\"\n",
    "    if int(labels[row_idx]) == 1:\n",
    "        age_dict[age_key][0] += 1\n",
    "    else:\n",
    "        age_dict[age_key][1] += 1\n",
    "\n",
    "percentages(age_dict)"
   ]
  },
  {
   "cell_type": "code",
   "execution_count": 10,
   "id": "ec50a01b",
   "metadata": {},
   "outputs": [
    {
     "name": "stdout",
     "output_type": "stream",
     "text": [
      "Mean:  0.5253664036076663  Std:  1.1040456789638795  Var:  1.2189168612388135\n"
     ]
    },
    {
     "data": {
      "text/plain": [
       "{'0': 0.347682119205298, '1-2': 0.5274261603375527, '3+': 0.15217391304347827}"
      ]
     },
     "execution_count": 10,
     "metadata": {},
     "output_type": "execute_result"
    }
   ],
   "source": [
    "# 'Siblings/Spouses Aboard'\n",
    "sibs_dict = {\"0\": [0,0], \"1-2\": [0,0], \"3+\": [0,0]}\n",
    "sibs_col = features[:,np.where(header == 'Siblings/Spouses Aboard')[0][0] - 1]\n",
    "print(\"Mean: \", np.mean(sibs_col), \" Std: \", np.std(sibs_col), \" Var: \", np.var(sibs_col))\n",
    "for row_idx in range(len(features)):\n",
    "    sib = features[row_idx][np.where(header == 'Siblings/Spouses Aboard')[0][0] - 1]\n",
    "    sib_key = None\n",
    "    if int(sib) == 0:\n",
    "        sib_key = \"0\"\n",
    "    elif int(sib) > 0 and int(sib) <= 2:\n",
    "        sib_key = \"1-2\"\n",
    "    elif int(sib) > 2:\n",
    "        sib_key = \"3+\"\n",
    "    if int(labels[row_idx]) == 1:\n",
    "        sibs_dict[sib_key][0] += 1\n",
    "    else:\n",
    "        sibs_dict[sib_key][1] += 1\n",
    "\n",
    "percentages(sibs_dict)"
   ]
  },
  {
   "cell_type": "code",
   "execution_count": 11,
   "id": "0ea9e91f",
   "metadata": {},
   "outputs": [
    {
     "name": "stdout",
     "output_type": "stream",
     "text": [
      "Mean:  0.3833145434047351  Std:  0.8070106118688808  Var:  0.6512661276689854\n"
     ]
    },
    {
     "data": {
      "text/plain": [
       "{'Parents/Children': 0.5117370892018779, 'None/Single': 0.3456973293768546}"
      ]
     },
     "execution_count": 11,
     "metadata": {},
     "output_type": "execute_result"
    }
   ],
   "source": [
    "# 'Parents/Children Aboard'\n",
    "parents_dict = {\"Parents/Children\": [0,0], \"None/Single\": [0,0]}\n",
    "parents_col = features[:,np.where(header == 'Parents/Children Aboard')[0][0] - 1]\n",
    "print(\"Mean: \", np.mean(parents_col), \" Std: \", np.std(parents_col), \" Var: \", np.var(parents_col))\n",
    "for row_idx in range(len(features)):\n",
    "    parents = features[row_idx][np.where(header == 'Parents/Children Aboard')[0][0] - 1]\n",
    "    parents_key = None\n",
    "    if int(parents) == 0:\n",
    "        parents_key = \"None/Single\"\n",
    "    elif int(parents) != 0:\n",
    "        parents_key = \"Parents/Children\"\n",
    "    if int(labels[row_idx]) == 1:\n",
    "        parents_dict[parents_key][0] += 1\n",
    "    else:\n",
    "        parents_dict[parents_key][1] += 1\n",
    "\n",
    "percentages(parents_dict)"
   ]
  },
  {
   "cell_type": "code",
   "execution_count": 12,
   "id": "6fe6cebf",
   "metadata": {},
   "outputs": [
    {
     "name": "stdout",
     "output_type": "stream",
     "text": [
      "Mean:  32.30542018038331  Std:  49.7539704569215  Var:  2475.4575762282175\n"
     ]
    },
    {
     "data": {
      "text/plain": [
       "{'$0-30': 0.3187311178247734, '$31+': 0.5822222222222222}"
      ]
     },
     "execution_count": 12,
     "metadata": {},
     "output_type": "execute_result"
    }
   ],
   "source": [
    "# 'Fare'\n",
    "fare_dict = {\"$0-30\": [0,0], \"$31+\": [0,0]}\n",
    "fare_col = features[:,np.where(header == 'Fare')[0][0] - 1]\n",
    "print(\"Mean: \", np.mean(fare_col), \" Std: \", np.std(fare_col), \" Var: \", np.var(fare_col))\n",
    "for fare_idx in range(len(fare_col)):\n",
    "    fare = fare_col[fare_idx]\n",
    "    fare_key = None\n",
    "    if fare < 31:\n",
    "        fare_key = \"$0-30\"\n",
    "    elif fare >= 31:\n",
    "        fare_key = \"$31+\"\n",
    "    if int(labels[fare_idx]) == 1:\n",
    "        fare_dict[fare_key][0] += 1\n",
    "    else:\n",
    "        fare_dict[fare_key][1] += 1\n",
    "\n",
    "percentages(fare_dict)"
   ]
  },
  {
   "cell_type": "code",
   "execution_count": 13,
   "id": "0fb0e5fe",
   "metadata": {},
   "outputs": [
    {
     "data": {
      "text/plain": [
       "(887, 6)"
      ]
     },
     "execution_count": 13,
     "metadata": {},
     "output_type": "execute_result"
    }
   ],
   "source": [
    "binary_features = np.zeros(shape = features.shape)\n",
    "binary_features.shape"
   ]
  },
  {
   "cell_type": "code",
   "execution_count": 14,
   "id": "9e4cc7cc",
   "metadata": {},
   "outputs": [],
   "source": [
    "def map_binary(feature_name, op, val):\n",
    "    '''Given the feature name (column), an operation to use: op, \n",
    "    and the sentinal value: val, binarize the data based on this\n",
    "    set of parameters'''\n",
    "    col_idx = np.where(header == feature_name)[0][0] - 1\n",
    "    var_col = features[:,col_idx]\n",
    "    for var_idx in range(len(var_col)):\n",
    "        feature = var_col[var_idx]\n",
    "        if op == 'eq':\n",
    "            if int(feature) == val:\n",
    "                binary_features[var_idx,col_idx] = 1\n",
    "            elif int(feature) != val:\n",
    "                binary_features[var_idx,col_idx] = 0\n",
    "        if op == 'neq':\n",
    "            if int(feature) != val:\n",
    "                binary_features[var_idx,col_idx] = 1\n",
    "            elif int(feature) == val:\n",
    "                binary_features[var_idx,col_idx] = 0\n",
    "        if op == 'geq':\n",
    "            if int(feature) >= val:\n",
    "                binary_features[var_idx,col_idx] = 1\n",
    "            elif int(feature) < val:\n",
    "                binary_features[var_idx,col_idx] = 0\n",
    "    return \"{} using {} {} -> 1, 0 otherwise\".format(feature_name, op, val)"
   ]
  },
  {
   "cell_type": "code",
   "execution_count": 15,
   "id": "34e9e022",
   "metadata": {},
   "outputs": [
    {
     "data": {
      "text/plain": [
       "'Pclass using eq 1 -> 1, 0 otherwise'"
      ]
     },
     "execution_count": 15,
     "metadata": {},
     "output_type": "execute_result"
    }
   ],
   "source": [
    "map_binary('Pclass', 'eq', 1)"
   ]
  },
  {
   "cell_type": "code",
   "execution_count": 16,
   "id": "213fff2a",
   "metadata": {},
   "outputs": [
    {
     "data": {
      "text/plain": [
       "'Sex using eq 1 -> 1, 0 otherwise'"
      ]
     },
     "execution_count": 16,
     "metadata": {},
     "output_type": "execute_result"
    }
   ],
   "source": [
    "map_binary('Sex', 'eq', 1)"
   ]
  },
  {
   "cell_type": "code",
   "execution_count": 17,
   "id": "b81a2b08",
   "metadata": {},
   "outputs": [
    {
     "data": {
      "text/plain": [
       "'Age using geq 55 -> 1, 0 otherwise'"
      ]
     },
     "execution_count": 17,
     "metadata": {},
     "output_type": "execute_result"
    }
   ],
   "source": [
    "map_binary('Age', 'geq', 55)"
   ]
  },
  {
   "cell_type": "code",
   "execution_count": 18,
   "id": "a40d5c95",
   "metadata": {},
   "outputs": [
    {
     "data": {
      "text/plain": [
       "'Siblings/Spouses Aboard using neq 0 -> 1, 0 otherwise'"
      ]
     },
     "execution_count": 18,
     "metadata": {},
     "output_type": "execute_result"
    }
   ],
   "source": [
    "map_binary('Siblings/Spouses Aboard', 'neq', 0)"
   ]
  },
  {
   "cell_type": "code",
   "execution_count": 19,
   "id": "013ca2dc",
   "metadata": {},
   "outputs": [
    {
     "data": {
      "text/plain": [
       "'Parents/Children Aboard using neq 0 -> 1, 0 otherwise'"
      ]
     },
     "execution_count": 19,
     "metadata": {},
     "output_type": "execute_result"
    }
   ],
   "source": [
    "map_binary('Parents/Children Aboard', 'neq', 0)"
   ]
  },
  {
   "cell_type": "code",
   "execution_count": 20,
   "id": "9ff2938f",
   "metadata": {},
   "outputs": [
    {
     "data": {
      "text/plain": [
       "'Fare using geq 31 -> 1, 0 otherwise'"
      ]
     },
     "execution_count": 20,
     "metadata": {},
     "output_type": "execute_result"
    }
   ],
   "source": [
    "map_binary('Fare', 'geq', 31)"
   ]
  },
  {
   "cell_type": "code",
   "execution_count": 21,
   "id": "b3b86a53",
   "metadata": {},
   "outputs": [
    {
     "data": {
      "text/plain": [
       "array(['Survived', 'Pclass', 'Sex', 'Age', 'Siblings/Spouses Aboard',\n",
       "       'Parents/Children Aboard', 'Fare'], dtype='<U23')"
      ]
     },
     "execution_count": 21,
     "metadata": {},
     "output_type": "execute_result"
    }
   ],
   "source": [
    "header"
   ]
  },
  {
   "cell_type": "code",
   "execution_count": 22,
   "id": "e7994511",
   "metadata": {},
   "outputs": [
    {
     "data": {
      "text/plain": [
       "array([[0., 0., 0., 1., 0., 0.],\n",
       "       [1., 1., 0., 1., 0., 1.],\n",
       "       [0., 1., 0., 0., 0., 0.],\n",
       "       ...,\n",
       "       [0., 1., 0., 1., 1., 0.],\n",
       "       [1., 0., 0., 0., 0., 0.],\n",
       "       [0., 0., 0., 0., 0., 0.]])"
      ]
     },
     "execution_count": 22,
     "metadata": {},
     "output_type": "execute_result"
    }
   ],
   "source": [
    "binary_features"
   ]
  },
  {
   "cell_type": "code",
   "execution_count": 23,
   "id": "a0c94a93",
   "metadata": {},
   "outputs": [
    {
     "data": {
      "text/plain": [
       "array([[ 3.    ,  0.    , 22.    ,  1.    ,  0.    ,  7.25  ],\n",
       "       [ 1.    ,  1.    , 38.    ,  1.    ,  0.    , 71.2833],\n",
       "       [ 3.    ,  1.    , 26.    ,  0.    ,  0.    ,  7.925 ],\n",
       "       ...,\n",
       "       [ 3.    ,  1.    ,  7.    ,  1.    ,  2.    , 23.45  ],\n",
       "       [ 1.    ,  0.    , 26.    ,  0.    ,  0.    , 30.    ],\n",
       "       [ 3.    ,  0.    , 32.    ,  0.    ,  0.    ,  7.75  ]])"
      ]
     },
     "execution_count": 23,
     "metadata": {},
     "output_type": "execute_result"
    }
   ],
   "source": [
    "features"
   ]
  },
  {
   "cell_type": "code",
   "execution_count": 24,
   "id": "4e978c45",
   "metadata": {},
   "outputs": [],
   "source": [
    "def mutual_information(feature_name, features, labels, header):\n",
    "    \"\"\"Given vectors xj , y ∈ {0, 1}N containing the jth\n",
    "    feature and the response of N i.i.d. samples, write your own\n",
    "    code to estimate the mutual information I(xj , y).\"\"\"\n",
    "    #I(x, y) := H(x) − H(x|y).\n",
    "    return entropy(feature_name, features, header) - conditional_entropy(feature_name, features, labels, header)\n",
    "\n",
    "def log_div(n, d):\n",
    "    '''Use to avoid division by zero errors and then send 1 to the log func'''\n",
    "    return n / d if d > 1e-3 else 1\n",
    "\n",
    "def entropy(feature_name, features, header):\n",
    "    '''Compute the entropy (binary data) of feature x_j'''\n",
    "    col_idx = np.where(header == feature_name)[0][0] - 1\n",
    "    feature_col = features[:,col_idx]\n",
    "    col_length = features.shape[0]\n",
    "    prob_1 = np.sum(feature_col)\n",
    "    prob_0 = (col_length - prob_1) / col_length; prob_1 /= col_length\n",
    "    return prob_0 * math.log(log_div(1, prob_0), 2) + prob_1 * math.log(log_div(1, prob_1), 2)\n",
    "\n",
    "def entropy_y(labels):\n",
    "    col_length = labels.shape[0]\n",
    "    prob_1 = np.sum(labels)\n",
    "    prob_0 = (col_length - prob_1) / col_length; prob_1 /= col_length\n",
    "    return prob_0 * math.log(log_div(1, prob_0), 2) + prob_1 * math.log(log_div(1, prob_1), 2)\n",
    "    \n",
    "def conditional_entropy(feature_name, features, labels, header):\n",
    "    '''Compute the conditional entropy (binary data) of feature x_j\n",
    "    with respect to response/label y'''\n",
    "    col_idx = np.where(header == feature_name)[0][0] - 1\n",
    "    feature_col = features[:,col_idx]\n",
    "    col_length = features.shape[0]\n",
    "    prob_x1 = np.sum(feature_col)\n",
    "    prob_x0 = (col_length - prob_x1) / col_length; prob_x1 /= col_length\n",
    "    prob_y1 = np.sum(labels)\n",
    "    prob_y0 = (col_length - prob_y1) / col_length; prob_y1 /= col_length\n",
    "    prob_x0_y0 = 0; prob_x0_y1 = 0; prob_x1_y0 = 0; prob_x1_y1 = 0\n",
    "    for row_idx in range(len(feature_col)):\n",
    "        if feature_col[row_idx] == 0 and labels[row_idx] == 0:\n",
    "            prob_x0_y0 += 1\n",
    "        if feature_col[row_idx] == 0 and labels[row_idx] == 1:\n",
    "            prob_x0_y1 += 1\n",
    "        if feature_col[row_idx] == 1 and labels[row_idx] == 0:\n",
    "            prob_x1_y0 += 1\n",
    "        if feature_col[row_idx] == 1 and labels[row_idx] == 1:\n",
    "            prob_x1_y1 += 1\n",
    "    prob_x0_y0 /= col_length; prob_x0_y1 /= col_length; prob_x1_y0 /= col_length; prob_x1_y1 /= col_length\n",
    "    cond_prob_x0_y0 = prob_x0_y0 / prob_y0\n",
    "    cond_prob_x0_y1 = prob_x0_y1 / prob_y1\n",
    "    cond_prob_x1_y0 = prob_x1_y0 / prob_y0\n",
    "    cond_prob_x1_y1 = prob_x1_y1 / prob_y1\n",
    "    return prob_x0_y0 * math.log(log_div(1, cond_prob_x0_y0), 2) +\\\n",
    "           prob_x0_y1 * math.log(log_div(1, cond_prob_x0_y1), 2) +\\\n",
    "           prob_x1_y0 * math.log(log_div(1, cond_prob_x1_y0), 2) +\\\n",
    "           prob_x1_y1 * math.log(log_div(1, cond_prob_x1_y1), 2)\n",
    "    "
   ]
  },
  {
   "cell_type": "code",
   "execution_count": 25,
   "id": "b236f543",
   "metadata": {},
   "outputs": [
    {
     "data": {
      "text/plain": [
       "0.3372900666170139"
      ]
     },
     "execution_count": 25,
     "metadata": {},
     "output_type": "execute_result"
    }
   ],
   "source": [
    "# Testing with lecture notes example\n",
    "test_header = np.array([\"Resistant\",\"G1\",\"G2\",\"G3\"])\n",
    "test_data = np.array([[0,1,0,0],\n",
    "                      [0,1,0,1],\n",
    "                      [0,1,0,1],\n",
    "                      [0,1,0,0],\n",
    "                      [0,1,0,0],\n",
    "                      [1,1,1,0],\n",
    "                      [0,1,0,1],\n",
    "                      [0,1,0,1],\n",
    "                      [0,1,0,1],\n",
    "                      [0,1,0,1],\n",
    "                      [0,1,0,0],\n",
    "                      [0,1,0,0],\n",
    "                      [0,1,0,0],\n",
    "                      [1,0,0,1],\n",
    "                      [0,1,0,0],\n",
    "                      [0,1,0,1]])\n",
    "test_labels = test_data[:,0]\n",
    "test_features = test_data[:,1:]\n",
    "entropy(\"G1\", test_features, test_header)"
   ]
  },
  {
   "cell_type": "code",
   "execution_count": 26,
   "id": "a01096e2",
   "metadata": {},
   "outputs": [
    {
     "data": {
      "text/plain": [
       "0.125"
      ]
     },
     "execution_count": 26,
     "metadata": {},
     "output_type": "execute_result"
    }
   ],
   "source": [
    "conditional_entropy(\"G1\", test_features, test_labels, test_header)"
   ]
  },
  {
   "cell_type": "code",
   "execution_count": 27,
   "id": "9b8aac8d",
   "metadata": {},
   "outputs": [
    {
     "name": "stdout",
     "output_type": "stream",
     "text": [
      "I(x_1,y) =  0.21229006661701388 I(x_2,y) =  0.21229006661701388 I(x_3,y) =  0.0\n"
     ]
    }
   ],
   "source": [
    "mut_g1 = mutual_information(\"G1\", test_features, test_labels, test_header)\n",
    "mut_g2 = mutual_information(\"G2\", test_features, test_labels, test_header)\n",
    "mut_g3 = mutual_information(\"G3\", test_features, test_labels, test_header)\n",
    "print(\"I(x_1,y) = \", mut_g1, \"I(x_2,y) = \", mut_g2, \"I(x_3,y) = \", mut_g3)"
   ]
  },
  {
   "cell_type": "code",
   "execution_count": 28,
   "id": "1bcc5ec9",
   "metadata": {},
   "outputs": [
    {
     "name": "stdout",
     "output_type": "stream",
     "text": [
      "['Survived' 'Pclass' 'Sex' 'Age' 'Siblings/Spouses Aboard'\n",
      " 'Parents/Children Aboard' 'Fare']\n",
      "['Pclass' 'Sex' 'Age' 'Siblings/Spouses Aboard' 'Parents/Children Aboard'\n",
      " 'Fare']\n"
     ]
    }
   ],
   "source": [
    "print(header)\n",
    "header_list = header[1:]\n",
    "print(header_list)"
   ]
  },
  {
   "cell_type": "code",
   "execution_count": 29,
   "id": "27b26f74",
   "metadata": {},
   "outputs": [
    {
     "data": {
      "text/plain": [
       "0.9618806789594468"
      ]
     },
     "execution_count": 29,
     "metadata": {},
     "output_type": "execute_result"
    }
   ],
   "source": [
    "entropy_y(labels)"
   ]
  },
  {
   "cell_type": "code",
   "execution_count": 30,
   "id": "00602f3f",
   "metadata": {},
   "outputs": [
    {
     "data": {
      "text/plain": [
       "887"
      ]
     },
     "execution_count": 30,
     "metadata": {},
     "output_type": "execute_result"
    }
   ],
   "source": [
    "init_total = binary_features.shape[0]\n",
    "init_total"
   ]
  },
  {
   "cell_type": "code",
   "execution_count": 31,
   "id": "c6a2c92c",
   "metadata": {},
   "outputs": [
    {
     "data": {
      "text/plain": [
       "44"
      ]
     },
     "execution_count": 31,
     "metadata": {},
     "output_type": "execute_result"
    }
   ],
   "source": [
    "perc_5 = int(init_total * 0.05)\n",
    "perc_5"
   ]
  },
  {
   "cell_type": "code",
   "execution_count": 44,
   "id": "5b037185",
   "metadata": {},
   "outputs": [],
   "source": [
    "def build_decision_tree(binary_features, labels, header_list, perc_5):\n",
    "    d_tree = {}\n",
    "    print(\"header_size: \", header_list.shape[0])\n",
    "\n",
    "    #Stopping criteria\n",
    "    if math.isclose(entropy_y(labels), 0.0, abs_tol = 1e-3):\n",
    "        print(\"close to 0 entropy_y\")\n",
    "        return d_tree\n",
    "    if binary_features.shape[0] <= perc_5:\n",
    "        print(\"current subset contains too few samples\")\n",
    "        return d_tree\n",
    "    if header_list.shape[0] <= 1:\n",
    "        print(\"ran out of features\")\n",
    "        return d_tree\n",
    "\n",
    "    #Setup Copies\n",
    "    binary_features_copy = np.copy(binary_features)\n",
    "    labels_copy = np.copy(labels)\n",
    "    header_copy = np.copy(header_list)\n",
    "\n",
    "    #Step 1\n",
    "    #Compute mutual information\n",
    "    mut_info = {}\n",
    "    for feature_name in header_copy:\n",
    "        mut_info[feature_name] = mutual_information(feature_name, binary_features_copy, labels_copy, header)\n",
    "\n",
    "    print(\"Mutual Information: \", mut_info)\n",
    "    #Identify most informative feature relative to y\n",
    "    highest_info = 0\n",
    "    key_info = None\n",
    "    for key in mut_info:\n",
    "        if mut_info[key] > highest_info:\n",
    "            highest_info = mut_info[key]\n",
    "            key_info = key\n",
    "\n",
    "    print(\"Next Key: \", key_info)\n",
    "    del_idx = np.where(header_copy == key_info)[0][0]\n",
    "    header_copy = np.delete(header_copy, del_idx, 0)\n",
    "#     print(header_copy)\n",
    "    #Step 2\n",
    "    #Split the Data\n",
    "    pos_data = []\n",
    "    neg_data = []\n",
    "    col_idx = np.where(header == key_info)[0][0] - 1\n",
    "#     print(col_idx)\n",
    "    for row_idx in range(len(binary_features_copy)):\n",
    "        if binary_features_copy[row_idx][col_idx] == 1:\n",
    "            pos_data.append(binary_features_copy[row_idx])\n",
    "        if binary_features_copy[row_idx][col_idx] == 0:\n",
    "            neg_data.append(binary_features_copy[row_idx])\n",
    "            \n",
    "#     print(d_tree)\n",
    "    # print(np.array(pos_data))\n",
    "    d_tree[key_info] = [{\"0\":build_decision_tree(np.array(neg_data), labels_copy, header_copy, perc_5)},\n",
    "                        {\"1\":build_decision_tree(np.array(pos_data), labels_copy, header_copy, perc_5)}]\n",
    "\n",
    "    return d_tree"
   ]
  },
  {
   "cell_type": "code",
   "execution_count": 45,
   "id": "6c457ab9",
   "metadata": {},
   "outputs": [
    {
     "name": "stdout",
     "output_type": "stream",
     "text": [
      "header_size:  6\n",
      "Mutual Information:  {'Pclass': 0.05727486589406228, 'Sex': 0.2168495048312653, 'Age': 0.0027043134549136205, 'Siblings/Spouses Aboard': 0.009236225402885712, 'Parents/Children Aboard': 0.015040080377706322, 'Fare': 0.03924874754375929}\n",
      "Next Key:  Sex\n",
      "header_size:  5\n",
      "Mutual Information:  {'Pclass': 0.12022601908915131, 'Age': 0.11991853665194249, 'Siblings/Spouses Aboard': 0.12010302550113539, 'Parents/Children Aboard': 0.12069865295111315, 'Fare': 0.11989114708205639}\n",
      "Next Key:  Parents/Children Aboard\n",
      "header_size:  4\n",
      "Mutual Information:  {'Pclass': 0.3200747851493346, 'Age': 0.31973965883159555, 'Siblings/Spouses Aboard': 0.3203704052982651, 'Fare': 0.3230678170415119}\n",
      "Next Key:  Fare\n",
      "header_size:  3\n",
      "Mutual Information:  {'Pclass': 0.6810072149929437, 'Age': 0.6730733847367308, 'Siblings/Spouses Aboard': 0.6769323040074963}\n",
      "Next Key:  Pclass\n",
      "header_size:  2\n",
      "Mutual Information:  {'Age': 1.3666835085513152, 'Siblings/Spouses Aboard': 1.3684990081057267}\n",
      "Next Key:  Siblings/Spouses Aboard\n",
      "header_size:  1\n",
      "ran out of features\n",
      "header_size:  1\n",
      "ran out of features\n",
      "header_size:  2\n",
      "Mutual Information:  {'Age': -1.4285413062393422, 'Siblings/Spouses Aboard': -1.8377442811793454}\n",
      "Next Key:  None\n"
     ]
    },
    {
     "ename": "IndexError",
     "evalue": "index 0 is out of bounds for axis 0 with size 0",
     "output_type": "error",
     "traceback": [
      "\u001b[1;31m---------------------------------------------------------------------------\u001b[0m",
      "\u001b[1;31mIndexError\u001b[0m                                Traceback (most recent call last)",
      "\u001b[1;32m~\\AppData\\Local\\Temp/ipykernel_16344/1546725365.py\u001b[0m in \u001b[0;36m<module>\u001b[1;34m\u001b[0m\n\u001b[1;32m----> 1\u001b[1;33m \u001b[0md_tree\u001b[0m \u001b[1;33m=\u001b[0m \u001b[0mbuild_decision_tree\u001b[0m\u001b[1;33m(\u001b[0m\u001b[0mbinary_features\u001b[0m\u001b[1;33m,\u001b[0m \u001b[0mlabels\u001b[0m\u001b[1;33m,\u001b[0m \u001b[0mheader_list\u001b[0m\u001b[1;33m,\u001b[0m \u001b[0mperc_5\u001b[0m\u001b[1;33m)\u001b[0m\u001b[1;33m\u001b[0m\u001b[1;33m\u001b[0m\u001b[0m\n\u001b[0m\u001b[0;32m      2\u001b[0m \u001b[0md_tree\u001b[0m\u001b[1;33m\u001b[0m\u001b[1;33m\u001b[0m\u001b[0m\n",
      "\u001b[1;32m~\\AppData\\Local\\Temp/ipykernel_16344/3873329613.py\u001b[0m in \u001b[0;36mbuild_decision_tree\u001b[1;34m(binary_features, labels, header_list, perc_5)\u001b[0m\n\u001b[0;32m     52\u001b[0m \u001b[1;31m#     print(d_tree)\u001b[0m\u001b[1;33m\u001b[0m\u001b[1;33m\u001b[0m\u001b[0m\n\u001b[0;32m     53\u001b[0m     \u001b[1;31m# print(np.array(pos_data))\u001b[0m\u001b[1;33m\u001b[0m\u001b[1;33m\u001b[0m\u001b[0m\n\u001b[1;32m---> 54\u001b[1;33m     d_tree[key_info] = [{\"0\":build_decision_tree(np.array(neg_data), labels_copy, header_copy, perc_5)},\n\u001b[0m\u001b[0;32m     55\u001b[0m                         {\"1\":build_decision_tree(np.array(pos_data), labels_copy, header_copy, perc_5)}]\n\u001b[0;32m     56\u001b[0m \u001b[1;33m\u001b[0m\u001b[0m\n",
      "\u001b[1;32m~\\AppData\\Local\\Temp/ipykernel_16344/3873329613.py\u001b[0m in \u001b[0;36mbuild_decision_tree\u001b[1;34m(binary_features, labels, header_list, perc_5)\u001b[0m\n\u001b[0;32m     52\u001b[0m \u001b[1;31m#     print(d_tree)\u001b[0m\u001b[1;33m\u001b[0m\u001b[1;33m\u001b[0m\u001b[0m\n\u001b[0;32m     53\u001b[0m     \u001b[1;31m# print(np.array(pos_data))\u001b[0m\u001b[1;33m\u001b[0m\u001b[1;33m\u001b[0m\u001b[0m\n\u001b[1;32m---> 54\u001b[1;33m     d_tree[key_info] = [{\"0\":build_decision_tree(np.array(neg_data), labels_copy, header_copy, perc_5)},\n\u001b[0m\u001b[0;32m     55\u001b[0m                         {\"1\":build_decision_tree(np.array(pos_data), labels_copy, header_copy, perc_5)}]\n\u001b[0;32m     56\u001b[0m \u001b[1;33m\u001b[0m\u001b[0m\n",
      "\u001b[1;32m~\\AppData\\Local\\Temp/ipykernel_16344/3873329613.py\u001b[0m in \u001b[0;36mbuild_decision_tree\u001b[1;34m(binary_features, labels, header_list, perc_5)\u001b[0m\n\u001b[0;32m     52\u001b[0m \u001b[1;31m#     print(d_tree)\u001b[0m\u001b[1;33m\u001b[0m\u001b[1;33m\u001b[0m\u001b[0m\n\u001b[0;32m     53\u001b[0m     \u001b[1;31m# print(np.array(pos_data))\u001b[0m\u001b[1;33m\u001b[0m\u001b[1;33m\u001b[0m\u001b[0m\n\u001b[1;32m---> 54\u001b[1;33m     d_tree[key_info] = [{\"0\":build_decision_tree(np.array(neg_data), labels_copy, header_copy, perc_5)},\n\u001b[0m\u001b[0;32m     55\u001b[0m                         {\"1\":build_decision_tree(np.array(pos_data), labels_copy, header_copy, perc_5)}]\n\u001b[0;32m     56\u001b[0m \u001b[1;33m\u001b[0m\u001b[0m\n",
      "\u001b[1;32m~\\AppData\\Local\\Temp/ipykernel_16344/3873329613.py\u001b[0m in \u001b[0;36mbuild_decision_tree\u001b[1;34m(binary_features, labels, header_list, perc_5)\u001b[0m\n\u001b[0;32m     53\u001b[0m     \u001b[1;31m# print(np.array(pos_data))\u001b[0m\u001b[1;33m\u001b[0m\u001b[1;33m\u001b[0m\u001b[0m\n\u001b[0;32m     54\u001b[0m     d_tree[key_info] = [{\"0\":build_decision_tree(np.array(neg_data), labels_copy, header_copy, perc_5)},\n\u001b[1;32m---> 55\u001b[1;33m                         {\"1\":build_decision_tree(np.array(pos_data), labels_copy, header_copy, perc_5)}]\n\u001b[0m\u001b[0;32m     56\u001b[0m \u001b[1;33m\u001b[0m\u001b[0m\n\u001b[0;32m     57\u001b[0m     \u001b[1;32mreturn\u001b[0m \u001b[0md_tree\u001b[0m\u001b[1;33m\u001b[0m\u001b[1;33m\u001b[0m\u001b[0m\n",
      "\u001b[1;32m~\\AppData\\Local\\Temp/ipykernel_16344/3873329613.py\u001b[0m in \u001b[0;36mbuild_decision_tree\u001b[1;34m(binary_features, labels, header_list, perc_5)\u001b[0m\n\u001b[0;32m     35\u001b[0m \u001b[1;33m\u001b[0m\u001b[0m\n\u001b[0;32m     36\u001b[0m     \u001b[0mprint\u001b[0m\u001b[1;33m(\u001b[0m\u001b[1;34m\"Next Key: \"\u001b[0m\u001b[1;33m,\u001b[0m \u001b[0mkey_info\u001b[0m\u001b[1;33m)\u001b[0m\u001b[1;33m\u001b[0m\u001b[1;33m\u001b[0m\u001b[0m\n\u001b[1;32m---> 37\u001b[1;33m     \u001b[0mdel_idx\u001b[0m \u001b[1;33m=\u001b[0m \u001b[0mnp\u001b[0m\u001b[1;33m.\u001b[0m\u001b[0mwhere\u001b[0m\u001b[1;33m(\u001b[0m\u001b[0mheader_copy\u001b[0m \u001b[1;33m==\u001b[0m \u001b[0mkey_info\u001b[0m\u001b[1;33m)\u001b[0m\u001b[1;33m[\u001b[0m\u001b[1;36m0\u001b[0m\u001b[1;33m]\u001b[0m\u001b[1;33m[\u001b[0m\u001b[1;36m0\u001b[0m\u001b[1;33m]\u001b[0m\u001b[1;33m\u001b[0m\u001b[1;33m\u001b[0m\u001b[0m\n\u001b[0m\u001b[0;32m     38\u001b[0m     \u001b[0mheader_copy\u001b[0m \u001b[1;33m=\u001b[0m \u001b[0mnp\u001b[0m\u001b[1;33m.\u001b[0m\u001b[0mdelete\u001b[0m\u001b[1;33m(\u001b[0m\u001b[0mheader_copy\u001b[0m\u001b[1;33m,\u001b[0m \u001b[0mdel_idx\u001b[0m\u001b[1;33m,\u001b[0m \u001b[1;36m0\u001b[0m\u001b[1;33m)\u001b[0m\u001b[1;33m\u001b[0m\u001b[1;33m\u001b[0m\u001b[0m\n\u001b[0;32m     39\u001b[0m \u001b[1;31m#     print(header_copy)\u001b[0m\u001b[1;33m\u001b[0m\u001b[1;33m\u001b[0m\u001b[0m\n",
      "\u001b[1;31mIndexError\u001b[0m: index 0 is out of bounds for axis 0 with size 0"
     ]
    }
   ],
   "source": [
    "d_tree = build_decision_tree(binary_features, labels, header_list, perc_5)\n",
    "d_tree"
   ]
  },
  {
   "cell_type": "code",
   "execution_count": 35,
   "id": "dd41e6d8",
   "metadata": {},
   "outputs": [
    {
     "data": {
      "text/plain": [
       "0"
      ]
     },
     "execution_count": 35,
     "metadata": {},
     "output_type": "execute_result"
    }
   ],
   "source": []
  },
  {
   "cell_type": "code",
   "execution_count": null,
   "id": "3fab7c7c",
   "metadata": {},
   "outputs": [],
   "source": []
  }
 ],
 "metadata": {
  "kernelspec": {
   "display_name": "Python 3 (ipykernel)",
   "language": "python",
   "name": "python3"
  },
  "language_info": {
   "codemirror_mode": {
    "name": "ipython",
    "version": 3
   },
   "file_extension": ".py",
   "mimetype": "text/x-python",
   "name": "python",
   "nbconvert_exporter": "python",
   "pygments_lexer": "ipython3",
   "version": "3.9.7"
  }
 },
 "nbformat": 4,
 "nbformat_minor": 5
}
