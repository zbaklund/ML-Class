{
 "cells": [
  {
   "cell_type": "code",
   "execution_count": 13,
   "id": "b668d263",
   "metadata": {},
   "outputs": [],
   "source": [
    "import numpy as np\n",
    "from numpy.linalg import *\n",
    "from scipy import stats"
   ]
  },
  {
   "cell_type": "code",
   "execution_count": 2,
   "id": "3f3f8c95",
   "metadata": {},
   "outputs": [
    {
     "data": {
      "text/plain": [
       "array([[180, 150],\n",
       "       [150, 175],\n",
       "       [170, 165],\n",
       "       [185, 210]])"
      ]
     },
     "execution_count": 2,
     "metadata": {},
     "output_type": "execute_result"
    }
   ],
   "source": [
    "x = np.array([[180, 150],[150, 175],[170, 165],[185, 210]])\n",
    "x"
   ]
  },
  {
   "cell_type": "code",
   "execution_count": 3,
   "id": "a5a0a907",
   "metadata": {},
   "outputs": [
    {
     "data": {
      "text/plain": [
       "array([[110],\n",
       "       [140],\n",
       "       [180],\n",
       "       [190]])"
      ]
     },
     "execution_count": 3,
     "metadata": {},
     "output_type": "execute_result"
    }
   ],
   "source": [
    "y = np.array([[110],[140],[180],[190]])\n",
    "y"
   ]
  },
  {
   "cell_type": "code",
   "execution_count": 4,
   "id": "c61864a1",
   "metadata": {},
   "outputs": [
    {
     "data": {
      "text/plain": [
       "array([[180, 150, 170, 185],\n",
       "       [150, 175, 165, 210]])"
      ]
     },
     "execution_count": 4,
     "metadata": {},
     "output_type": "execute_result"
    }
   ],
   "source": [
    "x.T"
   ]
  },
  {
   "cell_type": "code",
   "execution_count": 5,
   "id": "97d29ebe",
   "metadata": {},
   "outputs": [
    {
     "data": {
      "text/plain": [
       "array([[-0.11278259],\n",
       "       [ 0.99759605]])"
      ]
     },
     "execution_count": 5,
     "metadata": {},
     "output_type": "execute_result"
    }
   ],
   "source": [
    "mse = inv(x.T @ x) @ x.T @ y\n",
    "mse"
   ]
  },
  {
   "cell_type": "code",
   "execution_count": 6,
   "id": "5ffb7c3d",
   "metadata": {},
   "outputs": [
    {
     "data": {
      "text/plain": [
       "array([[28454.47903604, 34685.6223761 , 31994.66768442, 41498.68600403],\n",
       "       [36214.79150041, 44145.33756958, 40720.48614381, 52816.50945968],\n",
       "       [46561.87478625, 56758.29116089, 52354.91075633, 67906.94073388],\n",
       "       [49148.6456077 , 59911.52955871, 55263.51690946, 71679.54855242]])"
      ]
     },
     "execution_count": 6,
     "metadata": {},
     "output_type": "execute_result"
    }
   ],
   "source": [
    "sigma = 2*y @ mse.T @ x.T\n",
    "sigma"
   ]
  },
  {
   "cell_type": "code",
   "execution_count": 7,
   "id": "06808200",
   "metadata": {},
   "outputs": [
    {
     "data": {
      "text/plain": [
       "array([[0.4526687 ],\n",
       "       [0.46987478]])"
      ]
     },
     "execution_count": 7,
     "metadata": {},
     "output_type": "execute_result"
    }
   ],
   "source": [
    "mle = pinv(x.T @ pinv(sigma) @ x) @ x.T @ pinv(sigma) @ y\n",
    "mle"
   ]
  },
  {
   "cell_type": "code",
   "execution_count": 8,
   "id": "00db87c6",
   "metadata": {},
   "outputs": [
    {
     "data": {
      "text/plain": [
       "array([[175],\n",
       "       [170]])"
      ]
     },
     "execution_count": 8,
     "metadata": {},
     "output_type": "execute_result"
    }
   ],
   "source": [
    "sample = np.array([[175],[170]])\n",
    "sample"
   ]
  },
  {
   "cell_type": "code",
   "execution_count": 9,
   "id": "cf31ea5b",
   "metadata": {},
   "outputs": [
    {
     "data": {
      "text/plain": [
       "array([[159.09573404]])"
      ]
     },
     "execution_count": 9,
     "metadata": {},
     "output_type": "execute_result"
    }
   ],
   "source": [
    "sample.T @ mle"
   ]
  },
  {
   "cell_type": "code",
   "execution_count": 19,
   "id": "626a4f32",
   "metadata": {},
   "outputs": [
    {
     "ename": "ValueError",
     "evalue": "matmul: Input operand 1 has a mismatch in its core dimension 0, with gufunc signature (n?,k),(k,m?)->(n?,m?) (size 4 is different from 1)",
     "output_type": "error",
     "traceback": [
      "\u001b[0;31m---------------------------------------------------------------------------\u001b[0m",
      "\u001b[0;31mValueError\u001b[0m                                Traceback (most recent call last)",
      "\u001b[0;32m/tmp/ipykernel_20299/378523322.py\u001b[0m in \u001b[0;36m<module>\u001b[0;34m\u001b[0m\n\u001b[0;32m----> 1\u001b[0;31m \u001b[0mscale_1\u001b[0m \u001b[0;34m=\u001b[0m \u001b[0msigma\u001b[0m \u001b[0;34m@\u001b[0m \u001b[0;34m(\u001b[0m\u001b[0mmle\u001b[0m \u001b[0;34m@\u001b[0m \u001b[0mx\u001b[0m\u001b[0;34m)\u001b[0m\u001b[0;34m\u001b[0m\u001b[0;34m\u001b[0m\u001b[0m\n\u001b[0m",
      "\u001b[0;31mValueError\u001b[0m: matmul: Input operand 1 has a mismatch in its core dimension 0, with gufunc signature (n?,k),(k,m?)->(n?,m?) (size 4 is different from 1)"
     ]
    }
   ],
   "source": [
    "scale_1 = sigma @ (mle @ x)"
   ]
  },
  {
   "cell_type": "code",
   "execution_count": 16,
   "id": "59ff7aa6",
   "metadata": {},
   "outputs": [
    {
     "data": {
      "text/plain": [
       "(array([[ -55610.65837545,  -67823.47490447,  -62549.30062476,\n",
       "          -81176.8342396 ],\n",
       "        [ -70820.5913144 ,  -86364.1759877 ,  -79651.59054079,\n",
       "         -103359.36059605],\n",
       "        [ -91100.50189967, -111085.11076534, -102454.64376217,\n",
       "         -132936.06240465],\n",
       "        [ -96170.47954598, -117265.34445975, -108155.40706752,\n",
       "         -140330.2378568 ]]),\n",
       " array([[ 55928.84984353,  68141.66637255,  62867.49209284,\n",
       "          81495.02570768],\n",
       "        [ 71138.78278248,  86682.36745578,  79969.78200887,\n",
       "         103677.55206413],\n",
       "        [ 91418.69336775, 111403.30223342, 102772.83523025,\n",
       "         133254.25387273],\n",
       "        [ 96488.67101406, 117583.53592783, 108473.5985356 ,\n",
       "         140648.42932488]]))"
      ]
     },
     "execution_count": 16,
     "metadata": {},
     "output_type": "execute_result"
    }
   ],
   "source": [
    "conf_int = stats.norm.interval(0.95, loc=159.09573404, scale=scale_1)\n",
    "conf_int"
   ]
  },
  {
   "cell_type": "code",
   "execution_count": null,
   "id": "7a42fc7b",
   "metadata": {},
   "outputs": [],
   "source": []
  },
  {
   "cell_type": "code",
   "execution_count": null,
   "id": "2cc73089",
   "metadata": {},
   "outputs": [],
   "source": []
  }
 ],
 "metadata": {
  "kernelspec": {
   "display_name": "Python 3 (ipykernel)",
   "language": "python",
   "name": "python3"
  },
  "language_info": {
   "codemirror_mode": {
    "name": "ipython",
    "version": 3
   },
   "file_extension": ".py",
   "mimetype": "text/x-python",
   "name": "python",
   "nbconvert_exporter": "python",
   "pygments_lexer": "ipython3",
   "version": "3.7.9"
  }
 },
 "nbformat": 4,
 "nbformat_minor": 5
}
