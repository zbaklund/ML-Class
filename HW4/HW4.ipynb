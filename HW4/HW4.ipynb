{
 "cells": [
  {
   "cell_type": "code",
   "execution_count": 1,
   "id": "8de6abf7",
   "metadata": {},
   "outputs": [],
   "source": [
    "import csv\n",
    "import numpy as np"
   ]
  },
  {
   "cell_type": "code",
   "execution_count": 2,
   "id": "5d9fec59",
   "metadata": {},
   "outputs": [],
   "source": [
    "header = []\n",
    "labels = []\n",
    "features = []\n",
    "with open(\"titanic_data.csv\") as f:\n",
    "    reader = csv.reader(f)\n",
    "    header = next(reader)\n",
    "    for row in reader:\n",
    "#         print(row)\n",
    "        labels.append(int(row[0]))\n",
    "        features.append([float(x) for x in row[1:]])"
   ]
  },
  {
   "cell_type": "code",
   "execution_count": 3,
   "id": "2e3e8e07",
   "metadata": {},
   "outputs": [],
   "source": [
    "header = np.array(header)\n",
    "labels = np.array(labels)\n",
    "features = np.array(features)"
   ]
  },
  {
   "cell_type": "code",
   "execution_count": 4,
   "id": "2da4633e",
   "metadata": {},
   "outputs": [
    {
     "name": "stdout",
     "output_type": "stream",
     "text": [
      "header:  (7,) labels:  (887,) features:  (887, 6)\n"
     ]
    }
   ],
   "source": [
    "print(\"header: \", header.shape, \"labels: \", labels.shape, \"features: \", features.shape)"
   ]
  },
  {
   "cell_type": "code",
   "execution_count": 5,
   "id": "58229c90",
   "metadata": {},
   "outputs": [
    {
     "name": "stdout",
     "output_type": "stream",
     "text": [
      "['Survived' 'Pclass' 'Sex' 'Age' 'Siblings/Spouses Aboard'\n",
      " 'Parents/Children Aboard' 'Fare']\n"
     ]
    }
   ],
   "source": [
    "print(header)"
   ]
  },
  {
   "cell_type": "code",
   "execution_count": 28,
   "id": "d8d1a7c4",
   "metadata": {},
   "outputs": [],
   "source": [
    "def percentages(feature_dict):\n",
    "    for key in feature_dict:\n",
    "        feature_dict[key] = feature_dict[key][0] / (feature_dict[key][0] + feature_dict[key][1])\n",
    "    return feature_dict"
   ]
  },
  {
   "cell_type": "code",
   "execution_count": 37,
   "id": "36bc6675",
   "metadata": {},
   "outputs": [
    {
     "data": {
      "text/plain": [
       "{'1': 0.6296296296296297, '2': 0.47282608695652173, '3': 0.24435318275154005}"
      ]
     },
     "execution_count": 37,
     "metadata": {},
     "output_type": "execute_result"
    }
   ],
   "source": [
    "pclass_dict = {\"1\": [0,0], \"2\": [0,0], \"3\": [0,0]}\n",
    "for row_idx in range(len(features)):\n",
    "    pclass = features[row_idx][np.where(header == \"Pclass\")[0][0] - 1]\n",
    "    if int(labels[row_idx]) == 1:\n",
    "        pclass_dict[str(int(pclass))][0] += 1\n",
    "    else:\n",
    "        pclass_dict[str(int(pclass))][1] += 1\n",
    "\n",
    "percentages(pclass_dict)"
   ]
  },
  {
   "cell_type": "code",
   "execution_count": 38,
   "id": "ff5d08b1",
   "metadata": {},
   "outputs": [
    {
     "data": {
      "text/plain": [
       "{'0': 0.19022687609075042, '1': 0.7420382165605095}"
      ]
     },
     "execution_count": 38,
     "metadata": {},
     "output_type": "execute_result"
    }
   ],
   "source": [
    "sex_dict = {\"0\": [0,0], \"1\": [0,0]}\n",
    "for row_idx in range(len(features)):\n",
    "    sex = features[row_idx][np.where(header == \"Sex\")[0][0] - 1]\n",
    "    if int(labels[row_idx]) == 1:\n",
    "        sex_dict[str(int(sex))][0] += 1\n",
    "    else:\n",
    "        sex_dict[str(int(sex))][1] += 1\n",
    "\n",
    "percentages(sex_dict)"
   ]
  },
  {
   "cell_type": "code",
   "execution_count": 41,
   "id": "43c05b3f",
   "metadata": {},
   "outputs": [
    {
     "data": {
      "text/plain": [
       "{'0-18': 0.46987951807228917,\n",
       " '18-25': 0.31627906976744186,\n",
       " '25-35': 0.4057377049180328,\n",
       " '35-55': 0.391705069124424,\n",
       " '55+': 0.26666666666666666}"
      ]
     },
     "execution_count": 41,
     "metadata": {},
     "output_type": "execute_result"
    }
   ],
   "source": [
    "age_dict = {\"0-18\": [0,0], \"18-25\": [0,0], \"25-35\": [0,0], \"35-55\": [0,0], \"55+\": [0,0]}\n",
    "for row_idx in range(len(features)):\n",
    "    age = features[row_idx][np.where(header == \"Age\")[0][0] - 1]\n",
    "    age_key = None\n",
    "    if int(age) <= 18: \n",
    "        age_key = \"0-18\"\n",
    "    elif int(age) > 18 and int(age) <= 25:\n",
    "        age_key = \"18-25\"\n",
    "    elif int(age) > 25 and int(age) <= 35:\n",
    "        age_key = \"25-35\"\n",
    "    elif int(age) > 35 and int(age) <= 55:\n",
    "        age_key = \"35-55\"\n",
    "    elif int(age) > 55:\n",
    "        age_key = \"55+\"\n",
    "    if int(labels[row_idx]) == 1:\n",
    "        age_dict[age_key][0] += 1\n",
    "    else:\n",
    "        age_dict[age_key][1] += 1\n",
    "\n",
    "percentages(age_dict)"
   ]
  },
  {
   "cell_type": "code",
   "execution_count": null,
   "id": "3dc6fa0d",
   "metadata": {},
   "outputs": [],
   "source": []
  }
 ],
 "metadata": {
  "kernelspec": {
   "display_name": "Python 3 (ipykernel)",
   "language": "python",
   "name": "python3"
  },
  "language_info": {
   "codemirror_mode": {
    "name": "ipython",
    "version": 3
   },
   "file_extension": ".py",
   "mimetype": "text/x-python",
   "name": "python",
   "nbconvert_exporter": "python",
   "pygments_lexer": "ipython3",
   "version": "3.9.7"
  }
 },
 "nbformat": 4,
 "nbformat_minor": 5
}
