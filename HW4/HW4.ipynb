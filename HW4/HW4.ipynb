{
 "cells": [
  {
   "cell_type": "code",
   "execution_count": 1,
   "id": "55974554",
   "metadata": {},
   "outputs": [],
   "source": [
    "import csv\n",
    "import numpy as np"
   ]
  },
  {
   "cell_type": "code",
   "execution_count": 2,
   "id": "4a0596bf",
   "metadata": {},
   "outputs": [],
   "source": [
    "header = []\n",
    "labels = []\n",
    "features = []\n",
    "with open(\"titanic_data.csv\") as f:\n",
    "    reader = csv.reader(f)\n",
    "    header = next(reader)\n",
    "    for row in reader:\n",
    "#         print(row)\n",
    "        labels.append(int(row[0]))\n",
    "        features.append([float(x) for x in row[1:]])"
   ]
  },
  {
   "cell_type": "code",
   "execution_count": 3,
   "id": "f61e1c3b",
   "metadata": {},
   "outputs": [],
   "source": [
    "header = np.array(header)\n",
    "labels = np.array(labels)\n",
    "features = np.array(features)"
   ]
  },
  {
   "cell_type": "code",
   "execution_count": 4,
   "id": "a23a969b",
   "metadata": {},
   "outputs": [
    {
     "name": "stdout",
     "output_type": "stream",
     "text": [
      "header:  (7,) labels:  (887,) features:  (887, 6)\n"
     ]
    }
   ],
   "source": [
    "print(\"header: \", header.shape, \"labels: \", labels.shape, \"features: \", features.shape)"
   ]
  },
  {
   "cell_type": "code",
   "execution_count": 5,
   "id": "ce63c255",
   "metadata": {},
   "outputs": [
    {
     "name": "stdout",
     "output_type": "stream",
     "text": [
      "['Survived' 'Pclass' 'Sex' 'Age' 'Siblings/Spouses Aboard'\n",
      " 'Parents/Children Aboard' 'Fare']\n"
     ]
    }
   ],
   "source": [
    "print(header)"
   ]
  },
  {
   "cell_type": "code",
   "execution_count": 28,
   "id": "b25a22f3",
   "metadata": {},
   "outputs": [],
   "source": [
    "def percentages(feature_dict):\n",
    "    for key in feature_dict:\n",
    "        feature_dict[key] = feature_dict[key][0] / (feature_dict[key][0] + feature_dict[key][1])\n",
    "    return feature_dict"
   ]
  },
  {
   "cell_type": "code",
   "execution_count": 56,
   "id": "6dbde920",
   "metadata": {},
   "outputs": [
    {
     "name": "stdout",
     "output_type": "stream",
     "text": [
      "Mean:  2.305524239007892  Std:  0.8361902460886118  Var:  0.6992141276537333\n"
     ]
    },
    {
     "data": {
      "text/plain": [
       "{'1': 0.6296296296296297, '2': 0.47282608695652173, '3': 0.24435318275154005}"
      ]
     },
     "execution_count": 56,
     "metadata": {},
     "output_type": "execute_result"
    }
   ],
   "source": [
    "# 'Pclass'\n",
    "pclass_dict = {\"1\": [0,0], \"2\": [0,0], \"3\": [0,0]}\n",
    "pclass_col = features[:,np.where(header == 'Pclass')[0][0] - 1]\n",
    "print(\"Mean: \", np.mean(pclass_col), \" Std: \", np.std(pclass_col), \" Var: \", np.var(pclass_col))\n",
    "for row_idx in range(len(features)):\n",
    "    pclass = features[row_idx][np.where(header == \"Pclass\")[0][0] - 1]\n",
    "    if int(labels[row_idx]) == 1:\n",
    "        pclass_dict[str(int(pclass))][0] += 1\n",
    "    else:\n",
    "        pclass_dict[str(int(pclass))][1] += 1\n",
    "\n",
    "percentages(pclass_dict)"
   ]
  },
  {
   "cell_type": "code",
   "execution_count": 55,
   "id": "803dda9e",
   "metadata": {},
   "outputs": [
    {
     "name": "stdout",
     "output_type": "stream",
     "text": [
      "Mean:  0.35400225479143177  Std:  0.47820984765478636  Var:  0.22868465839401397\n"
     ]
    },
    {
     "data": {
      "text/plain": [
       "{'0': 0.19022687609075042, '1': 0.7420382165605095}"
      ]
     },
     "execution_count": 55,
     "metadata": {},
     "output_type": "execute_result"
    }
   ],
   "source": [
    "# 'Sex'\n",
    "sex_dict = {\"0\": [0,0], \"1\": [0,0]}\n",
    "sex_col = features[:,np.where(header == 'Sex')[0][0] - 1]\n",
    "print(\"Mean: \", np.mean(sex_col), \" Std: \", np.std(sex_col), \" Var: \", np.var(sex_col))\n",
    "for row_idx in range(len(features)):\n",
    "    sex = features[row_idx][np.where(header == \"Sex\")[0][0] - 1]\n",
    "    if int(labels[row_idx]) == 1:\n",
    "        sex_dict[str(int(sex))][0] += 1\n",
    "    else:\n",
    "        sex_dict[str(int(sex))][1] += 1\n",
    "\n",
    "percentages(sex_dict)"
   ]
  },
  {
   "cell_type": "code",
   "execution_count": 54,
   "id": "6445a963",
   "metadata": {},
   "outputs": [
    {
     "name": "stdout",
     "output_type": "stream",
     "text": [
      "Mean:  29.471443066516347  Std:  14.113945671023181  Var:  199.203462404594\n"
     ]
    },
    {
     "data": {
      "text/plain": [
       "{'0-18': 0.46987951807228917,\n",
       " '18-25': 0.31627906976744186,\n",
       " '25-35': 0.4057377049180328,\n",
       " '35-55': 0.391705069124424,\n",
       " '55+': 0.26666666666666666}"
      ]
     },
     "execution_count": 54,
     "metadata": {},
     "output_type": "execute_result"
    }
   ],
   "source": [
    "# 'Age'\n",
    "age_dict = {\"0-18\": [0,0], \"18-25\": [0,0], \"25-35\": [0,0], \"35-55\": [0,0], \"55+\": [0,0]}\n",
    "age_col = features[:,np.where(header == 'Age')[0][0] - 1]\n",
    "print(\"Mean: \", np.mean(age_col), \" Std: \", np.std(age_col), \" Var: \", np.var(age_col))\n",
    "for row_idx in range(len(features)):\n",
    "    age = features[row_idx][np.where(header == \"Age\")[0][0] - 1]\n",
    "    age_key = None\n",
    "    if int(age) <= 18: \n",
    "        age_key = \"0-18\"\n",
    "    elif int(age) > 18 and int(age) <= 25:\n",
    "        age_key = \"18-25\"\n",
    "    elif int(age) > 25 and int(age) <= 35:\n",
    "        age_key = \"25-35\"\n",
    "    elif int(age) > 35 and int(age) <= 55:\n",
    "        age_key = \"35-55\"\n",
    "    elif int(age) > 55:\n",
    "        age_key = \"55+\"\n",
    "    if int(labels[row_idx]) == 1:\n",
    "        age_dict[age_key][0] += 1\n",
    "    else:\n",
    "        age_dict[age_key][1] += 1\n",
    "\n",
    "percentages(age_dict)"
   ]
  },
  {
   "cell_type": "code",
   "execution_count": 53,
   "id": "ec50a01b",
   "metadata": {},
   "outputs": [
    {
     "name": "stdout",
     "output_type": "stream",
     "text": [
      "Mean:  0.5253664036076663  Std:  1.1040456789638795  Var:  1.2189168612388135\n"
     ]
    },
    {
     "data": {
      "text/plain": [
       "{'0': 0.347682119205298, '1-2': 0.5274261603375527, '3+': 0.15217391304347827}"
      ]
     },
     "execution_count": 53,
     "metadata": {},
     "output_type": "execute_result"
    }
   ],
   "source": [
    "# 'Siblings/Spouses Aboard'\n",
    "sibs_dict = {\"0\": [0,0], \"1-2\": [0,0], \"3+\": [0,0]}\n",
    "sibs_col = features[:,np.where(header == 'Siblings/Spouses Aboard')[0][0] - 1]\n",
    "print(\"Mean: \", np.mean(sibs_col), \" Std: \", np.std(sibs_col), \" Var: \", np.var(sibs_col))\n",
    "for row_idx in range(len(features)):\n",
    "    sib = features[row_idx][np.where(header == 'Siblings/Spouses Aboard')[0][0] - 1]\n",
    "    sib_key = None\n",
    "    if int(sib) == 0:\n",
    "        sib_key = \"0\"\n",
    "    elif int(sib) > 0 and int(sib) <= 2:\n",
    "        sib_key = \"1-2\"\n",
    "    elif int(sib) > 2:\n",
    "        sib_key = \"3+\"\n",
    "    if int(labels[row_idx]) == 1:\n",
    "        sibs_dict[sib_key][0] += 1\n",
    "    else:\n",
    "        sibs_dict[sib_key][1] += 1\n",
    "\n",
    "percentages(sibs_dict)"
   ]
  },
  {
   "cell_type": "code",
   "execution_count": 52,
   "id": "0ea9e91f",
   "metadata": {},
   "outputs": [
    {
     "name": "stdout",
     "output_type": "stream",
     "text": [
      "Mean:  0.3833145434047351  Std:  0.8070106118688808  Var:  0.6512661276689854\n"
     ]
    },
    {
     "data": {
      "text/plain": [
       "{'Parents/Children': 0.5117370892018779, 'None/Single': 0.3456973293768546}"
      ]
     },
     "execution_count": 52,
     "metadata": {},
     "output_type": "execute_result"
    }
   ],
   "source": [
    "# 'Parents/Children Aboard'\n",
    "parents_dict = {\"Parents/Children\": [0,0], \"None/Single\": [0,0]}\n",
    "parents_col = features[:,np.where(header == 'Parents/Children Aboard')[0][0] - 1]\n",
    "print(\"Mean: \", np.mean(parents_col), \" Std: \", np.std(parents_col), \" Var: \", np.var(parents_col))\n",
    "for row_idx in range(len(features)):\n",
    "    parents = features[row_idx][np.where(header == 'Parents/Children Aboard')[0][0] - 1]\n",
    "    parents_key = None\n",
    "    if int(parents) == 0:\n",
    "        parents_key = \"None/Single\"\n",
    "    elif int(parents) != 0:\n",
    "        parents_key = \"Parents/Children\"\n",
    "    if int(labels[row_idx]) == 1:\n",
    "        parents_dict[parents_key][0] += 1\n",
    "    else:\n",
    "        parents_dict[parents_key][1] += 1\n",
    "\n",
    "percentages(parents_dict)"
   ]
  },
  {
   "cell_type": "code",
   "execution_count": 51,
   "id": "6fe6cebf",
   "metadata": {},
   "outputs": [
    {
     "name": "stdout",
     "output_type": "stream",
     "text": [
      "Mean:  32.30542018038331  Std:  49.7539704569215  Var:  2475.4575762282175\n"
     ]
    },
    {
     "data": {
      "text/plain": [
       "{'$0-30': 0.3187311178247734, '$31+': 0.5822222222222222}"
      ]
     },
     "execution_count": 51,
     "metadata": {},
     "output_type": "execute_result"
    }
   ],
   "source": [
    "# 'Fare'\n",
    "fare_dict = {\"$0-30\": [0,0], \"$31+\": [0,0]}\n",
    "fare_col = features[:,np.where(header == 'Fare')[0][0] - 1]\n",
    "print(\"Mean: \", np.mean(fare_col), \" Std: \", np.std(fare_col), \" Var: \", np.var(fare_col))\n",
    "for fare_idx in range(len(fare_col)):\n",
    "    fare = fare_col[fare_idx]\n",
    "    fare_key = None\n",
    "    if fare < 31:\n",
    "        fare_key = \"$0-30\"\n",
    "    elif fare >= 31:\n",
    "        fare_key = \"$31+\"\n",
    "    if int(labels[fare_idx]) == 1:\n",
    "        fare_dict[fare_key][0] += 1\n",
    "    else:\n",
    "        fare_dict[fare_key][1] += 1\n",
    "\n",
    "percentages(fare_dict)"
   ]
  },
  {
   "cell_type": "code",
   "execution_count": null,
   "id": "0fb0e5fe",
   "metadata": {},
   "outputs": [],
   "source": []
  }
 ],
 "metadata": {
  "kernelspec": {
   "display_name": "Python 3 (ipykernel)",
   "language": "python",
   "name": "python3"
  },
  "language_info": {
   "codemirror_mode": {
    "name": "ipython",
    "version": 3
   },
   "file_extension": ".py",
   "mimetype": "text/x-python",
   "name": "python",
   "nbconvert_exporter": "python",
   "pygments_lexer": "ipython3",
   "version": "3.9.7"
  }
 },
 "nbformat": 4,
 "nbformat_minor": 5
}
